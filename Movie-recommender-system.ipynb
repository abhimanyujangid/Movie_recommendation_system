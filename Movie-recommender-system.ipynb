{
 "cells": [
  {
   "cell_type": "markdown",
   "id": "d7139f20-d429-4d25-91cb-84dddc74db95",
   "metadata": {},
   "source": [
    "# Workflow:\n",
    " * Data --> preprocessing --> apply model --> devlop a wesite --> deploy\n",
    "\n",
    "It contain 4 stage.\n",
    "\n",
    "\n"
   ]
  },
  {
   "cell_type": "markdown",
   "id": "47008070-039d-4252-9cd7-676b24e21825",
   "metadata": {},
   "source": [
    "# Dataset use:\n",
    "* tmdb_5000_credits.csv\n",
    "* tmdb_5000_movie.csv\n",
    "\n",
    "# "
   ]
  },
  {
   "cell_type": "code",
   "execution_count": null,
   "id": "478e063d-c15b-4060-a0cf-cc0b85744c38",
   "metadata": {},
   "outputs": [],
   "source": []
  }
 ],
 "metadata": {
  "kernelspec": {
   "display_name": "Python 3 (ipykernel)",
   "language": "python",
   "name": "python3"
  },
  "language_info": {
   "codemirror_mode": {
    "name": "ipython",
    "version": 3
   },
   "file_extension": ".py",
   "mimetype": "text/x-python",
   "name": "python",
   "nbconvert_exporter": "python",
   "pygments_lexer": "ipython3",
   "version": "3.10.12"
  }
 },
 "nbformat": 4,
 "nbformat_minor": 5
}
